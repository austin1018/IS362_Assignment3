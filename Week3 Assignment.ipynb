{
 "cells": [
  {
   "cell_type": "markdown",
   "id": "08ef0b4a",
   "metadata": {},
   "source": [
    "Import pandas library"
   ]
  },
  {
   "cell_type": "code",
   "execution_count": 1,
   "id": "6bc45c4c",
   "metadata": {},
   "outputs": [],
   "source": [
    "import pandas as pd"
   ]
  },
  {
   "cell_type": "markdown",
   "id": "d4c532c3",
   "metadata": {},
   "source": [
    "Store the cumulated miles in a list and initialize the pandas series. I put the 0 at the beginning as I want to let users know the meter start from zero."
   ]
  },
  {
   "cell_type": "code",
   "execution_count": 29,
   "id": "03128b45",
   "metadata": {},
   "outputs": [],
   "source": [
    "data=[0,55,120,178,238,306,386]\n",
    "ser = pd.Series(data, copy=False)"
   ]
  },
  {
   "cell_type": "markdown",
   "id": "2f5fc9d4",
   "metadata": {},
   "source": [
    "Below is to show the list of all the cumulated miles that have been entered."
   ]
  },
  {
   "cell_type": "code",
   "execution_count": 30,
   "id": "3da72273",
   "metadata": {},
   "outputs": [
    {
     "data": {
      "text/plain": [
       "0      0\n",
       "1     55\n",
       "2    120\n",
       "3    178\n",
       "4    238\n",
       "5    306\n",
       "6    386\n",
       "dtype: int64"
      ]
     },
     "execution_count": 30,
     "metadata": {},
     "output_type": "execute_result"
    }
   ],
   "source": [
    "ser"
   ]
  },
  {
   "cell_type": "markdown",
   "id": "955188cc",
   "metadata": {},
   "source": [
    "Below is the code to list the miles that I rode for each day."
   ]
  },
  {
   "cell_type": "code",
   "execution_count": 32,
   "id": "a1155ccb",
   "metadata": {},
   "outputs": [
    {
     "data": {
      "text/plain": [
       "0     NaN\n",
       "1    55.0\n",
       "2    65.0\n",
       "3    58.0\n",
       "4    60.0\n",
       "5    68.0\n",
       "6    80.0\n",
       "dtype: float64"
      ]
     },
     "execution_count": 32,
     "metadata": {},
     "output_type": "execute_result"
    }
   ],
   "source": [
    "ser.diff()"
   ]
  }
 ],
 "metadata": {
  "kernelspec": {
   "display_name": "Python 3",
   "language": "python",
   "name": "python3"
  },
  "language_info": {
   "codemirror_mode": {
    "name": "ipython",
    "version": 3
   },
   "file_extension": ".py",
   "mimetype": "text/x-python",
   "name": "python",
   "nbconvert_exporter": "python",
   "pygments_lexer": "ipython3",
   "version": "3.8.8"
  }
 },
 "nbformat": 4,
 "nbformat_minor": 5
}
